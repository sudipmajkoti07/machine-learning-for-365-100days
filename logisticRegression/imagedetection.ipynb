{
 "cells": [
  {
   "cell_type": "code",
   "execution_count": 7,
   "id": "58f022ac",
   "metadata": {},
   "outputs": [],
   "source": [
    "import pandas as pd\n",
    "import seaborn as sns\n",
    "from sklearn.datasets import load_digits\n",
    "import matplotlib.pyplot as plt"
   ]
  },
  {
   "cell_type": "code",
   "execution_count": 3,
   "id": "492cfa9c",
   "metadata": {},
   "outputs": [],
   "source": [
    "ram=load_digits()"
   ]
  },
  {
   "cell_type": "code",
   "execution_count": 4,
   "id": "e69b6aae",
   "metadata": {},
   "outputs": [
    {
     "data": {
      "text/plain": [
       "['DESCR', 'data', 'feature_names', 'frame', 'images', 'target', 'target_names']"
      ]
     },
     "execution_count": 4,
     "metadata": {},
     "output_type": "execute_result"
    }
   ],
   "source": [
    "dir(ram) # the model contain data and images as well"
   ]
  },
  {
   "cell_type": "code",
   "execution_count": 5,
   "id": "68012581",
   "metadata": {},
   "outputs": [
    {
     "data": {
      "text/plain": [
       "array([ 0.,  0.,  5., 13.,  9.,  1.,  0.,  0.,  0.,  0., 13., 15., 10.,\n",
       "       15.,  5.,  0.,  0.,  3., 15.,  2.,  0., 11.,  8.,  0.,  0.,  4.,\n",
       "       12.,  0.,  0.,  8.,  8.,  0.,  0.,  5.,  8.,  0.,  0.,  9.,  8.,\n",
       "        0.,  0.,  4., 11.,  0.,  1., 12.,  7.,  0.,  0.,  2., 14.,  5.,\n",
       "       10., 12.,  0.,  0.,  0.,  0.,  6., 13., 10.,  0.,  0.,  0.])"
      ]
     },
     "execution_count": 5,
     "metadata": {},
     "output_type": "execute_result"
    }
   ],
   "source": [
    "ram.data[0] # this is the data of first image"
   ]
  },
  {
   "cell_type": "code",
   "execution_count": 6,
   "id": "4a49f02a",
   "metadata": {},
   "outputs": [
    {
     "data": {
      "text/plain": [
       "array([[ 0.,  0.,  5., 13.,  9.,  1.,  0.,  0.],\n",
       "       [ 0.,  0., 13., 15., 10., 15.,  5.,  0.],\n",
       "       [ 0.,  3., 15.,  2.,  0., 11.,  8.,  0.],\n",
       "       [ 0.,  4., 12.,  0.,  0.,  8.,  8.,  0.],\n",
       "       [ 0.,  5.,  8.,  0.,  0.,  9.,  8.,  0.],\n",
       "       [ 0.,  4., 11.,  0.,  1., 12.,  7.,  0.],\n",
       "       [ 0.,  2., 14.,  5., 10., 12.,  0.,  0.],\n",
       "       [ 0.,  0.,  6., 13., 10.,  0.,  0.,  0.]])"
      ]
     },
     "execution_count": 6,
     "metadata": {},
     "output_type": "execute_result"
    }
   ],
   "source": [
    "ram.images[0]"
   ]
  },
  {
   "cell_type": "code",
   "execution_count": 9,
   "id": "b33928e1",
   "metadata": {},
   "outputs": [
    {
     "data": {
      "text/plain": [
       "<matplotlib.image.AxesImage at 0x26dc5218e10>"
      ]
     },
     "execution_count": 9,
     "metadata": {},
     "output_type": "execute_result"
    },
    {
     "data": {
      "text/plain": [
       "<Figure size 640x480 with 0 Axes>"
      ]
     },
     "metadata": {},
     "output_type": "display_data"
    },
    {
     "data": {
      "image/png": "[encoded data removed]",
      "text/plain": [
       "<Figure size 480x480 with 1 Axes>"
      ]
     },
     "metadata": {},
     "output_type": "display_data"
    }
   ],
   "source": [
    "plt.gray()\n",
    "plt.matshow(ram.images[0])  # here we print the first image"
   ]
  },
  {
   "cell_type": "code",
   "execution_count": 10,
   "id": "2e3c64b7",
   "metadata": {},
   "outputs": [],
   "source": [
    "from sklearn.model_selection import train_test_split"
   ]
  },
  {
   "cell_type": "code",
   "execution_count": 18,
   "id": "ce399090",
   "metadata": {},
   "outputs": [],
   "source": [
    "x_train,x_test,y_train,y_test=train_test_split(ram.data,ram.target,test_size=0.2)\n",
    "# here is the good concept to learn the data is the numpy array and target is the predicted value"
   ]
  },
  {
   "cell_type": "code",
   "execution_count": 19,
   "id": "a8ba3160",
   "metadata": {},
   "outputs": [],
   "source": [
    "from sklearn.linear_model import LogisticRegression"
   ]
  },
  {
   "cell_type": "code",
   "execution_count": 20,
   "id": "5c66a9da",
   "metadata": {},
   "outputs": [],
   "source": [
    "reg=LogisticRegression () # here is the model of our own"
   ]
  },
  {
   "cell_type": "code",
   "execution_count": 21,
   "id": "29093468",
   "metadata": {},
   "outputs": [
    {
     "name": "stderr",
     "output_type": "stream",
     "text": [
      "C:\\Users\\Asus\\AppData\\Local\\Programs\\Python\\Python311\\Lib\\site-packages\\sklearn\\linear_model\\_logistic.py:460: ConvergenceWarning: lbfgs failed to converge (status=1):\n",
      "STOP: TOTAL NO. of ITERATIONS REACHED LIMIT.\n",
      "\n",
      "Increase the number of iterations (max_iter) or scale the data as shown in:\n",
      "    https://scikit-learn.org/stable/modules/preprocessing.html\n",
      "Please also refer to the documentation for alternative solver options:\n",
      "    https://scikit-learn.org/stable/modules/linear_model.html#logistic-regression\n",
      "  n_iter_i = _check_optimize_result(\n"
     ]
    },
    {
     "data": {
      "text/html": [
       "<style>#sk-container-id-2 {color: black;}#sk-container-id-2 pre{padding: 0;}#sk-container-id-2 div.sk-toggleable {background-color: white;}#sk-container-id-2 label.sk-toggleable__label {cursor: pointer;display: block;width: 100%;margin-bottom: 0;padding: 0.3em;box-sizing: border-box;text-align: center;}#sk-container-id-2 label.sk-toggleable__label-arrow:before {content: \"▸\";float: left;margin-right: 0.25em;color: #696969;}#sk-container-id-2 label.sk-toggleable__label-arrow:hover:before {color: black;}#sk-container-id-2 div.sk-estimator:hover label.sk-toggleable__label-arrow:before {color: black;}#sk-container-id-2 div.sk-toggleable__content {max-height: 0;max-width: 0;overflow: hidden;text-align: left;background-color: #f0f8ff;}#sk-container-id-2 div.sk-toggleable__content pre {margin: 0.2em;color: black;border-radius: 0.25em;background-color: #f0f8ff;}#sk-container-id-2 input.sk-toggleable__control:checked~div.sk-toggleable__content {max-height: 200px;max-width: 100%;overflow: auto;}#sk-container-id-2 input.sk-toggleable__control:checked~label.sk-toggleable__label-arrow:before {content: \"▾\";}#sk-container-id-2 div.sk-estimator input.sk-toggleable__control:checked~label.sk-toggleable__label {background-color: #d4ebff;}#sk-container-id-2 div.sk-label input.sk-toggleable__control:checked~label.sk-toggleable__label {background-color: #d4ebff;}#sk-container-id-2 input.sk-hidden--visually {border: 0;clip: rect(1px 1px 1px 1px);clip: rect(1px, 1px, 1px, 1px);height: 1px;margin: -1px;overflow: hidden;padding: 0;position: absolute;width: 1px;}#sk-container-id-2 div.sk-estimator {font-family: monospace;background-color: #f0f8ff;border: 1px dotted black;border-radius: 0.25em;box-sizing: border-box;margin-bottom: 0.5em;}#sk-container-id-2 div.sk-estimator:hover {background-color: #d4ebff;}#sk-container-id-2 div.sk-parallel-item::after {content: \"\";width: 100%;border-bottom: 1px solid gray;flex-grow: 1;}#sk-container-id-2 div.sk-label:hover label.sk-toggleable__label {background-color: #d4ebff;}#sk-container-id-2 div.sk-serial::before {content: \"\";position: absolute;border-left: 1px solid gray;box-sizing: border-box;top: 0;bottom: 0;left: 50%;z-index: 0;}#sk-container-id-2 div.sk-serial {display: flex;flex-direction: column;align-items: center;background-color: white;padding-right: 0.2em;padding-left: 0.2em;position: relative;}#sk-container-id-2 div.sk-item {position: relative;z-index: 1;}#sk-container-id-2 div.sk-parallel {display: flex;align-items: stretch;justify-content: center;background-color: white;position: relative;}#sk-container-id-2 div.sk-item::before, #sk-container-id-2 div.sk-parallel-item::before {content: \"\";position: absolute;border-left: 1px solid gray;box-sizing: border-box;top: 0;bottom: 0;left: 50%;z-index: -1;}#sk-container-id-2 div.sk-parallel-item {display: flex;flex-direction: column;z-index: 1;position: relative;background-color: white;}#sk-container-id-2 div.sk-parallel-item:first-child::after {align-self: flex-end;width: 50%;}#sk-container-id-2 div.sk-parallel-item:last-child::after {align-self: flex-start;width: 50%;}#sk-container-id-2 div.sk-parallel-item:only-child::after {width: 0;}#sk-container-id-2 div.sk-dashed-wrapped {border: 1px dashed gray;margin: 0 0.4em 0.5em 0.4em;box-sizing: border-box;padding-bottom: 0.4em;background-color: white;}#sk-container-id-2 div.sk-label label {font-family: monospace;font-weight: bold;display: inline-block;line-height: 1.2em;}#sk-container-id-2 div.sk-label-container {text-align: center;}#sk-container-id-2 div.sk-container {/* jupyter's `normalize.less` sets `[hidden] { display: none; }` but bootstrap.min.css set `[hidden] { display: none !important; }` so we also need the `!important` here to be able to override the default hidden behavior on the sphinx rendered scikit-learn.org. See: https://github.com/scikit-learn/scikit-learn/issues/21755 */display: inline-block !important;position: relative;}#sk-container-id-2 div.sk-text-repr-fallback {display: none;}</style><div id=\"sk-container-id-2\" class=\"sk-top-container\"><div class=\"sk-text-repr-fallback\"><pre>LogisticRegression()</pre><b>In a Jupyter environment, please rerun this cell to show the HTML representation or trust the notebook. <br />On GitHub, the HTML representation is unable to render, please try loading this page with nbviewer.org.</b></div><div class=\"sk-container\" hidden><div class=\"sk-item\"><div class=\"sk-estimator sk-toggleable\"><input class=\"sk-toggleable__control sk-hidden--visually\" id=\"sk-estimator-id-2\" type=\"checkbox\" checked><label for=\"sk-estimator-id-2\" class=\"sk-toggleable__label sk-toggleable__label-arrow\">LogisticRegression</label><div class=\"sk-toggleable__content\"><pre>LogisticRegression()</pre></div></div></div></div></div>"
      ],
      "text/plain": [
       "LogisticRegression()"
      ]
     },
     "execution_count": 21,
     "metadata": {},
     "output_type": "execute_result"
    }
   ],
   "source": [
    "reg.fit(x_train,y_train)"
   ]
  },
  {
   "cell_type": "code",
   "execution_count": 22,
   "id": "28e75871",
   "metadata": {},
   "outputs": [
    {
     "data": {
      "text/plain": [
       "array([1, 5, 8, 1, 0, 8, 7, 0, 5, 5, 7, 8, 5, 1, 7, 6, 7, 7, 6, 9, 8, 7,\n",
       "       6, 6, 4, 0, 2, 2, 4, 1, 0, 9, 1, 5, 1, 1, 5, 6, 6, 7, 1, 0, 5, 9,\n",
       "       4, 3, 2, 9, 0, 4, 7, 1, 0, 4, 1, 6, 5, 9, 6, 4, 1, 2, 5, 5, 3, 7,\n",
       "       5, 0, 0, 4, 0, 7, 3, 4, 2, 4, 4, 5, 7, 9, 6, 3, 9, 7, 1, 3, 4, 5,\n",
       "       7, 2, 2, 8, 0, 6, 6, 9, 7, 4, 3, 2, 3, 6, 5, 1, 8, 2, 3, 9, 4, 0,\n",
       "       7, 2, 9, 6, 2, 1, 1, 4, 7, 3, 7, 3, 3, 9, 9, 6, 8, 5, 3, 1, 7, 0,\n",
       "       7, 1, 0, 9, 6, 6, 7, 9, 2, 4, 3, 8, 6, 3, 9, 3, 6, 4, 7, 7, 8, 9,\n",
       "       6, 6, 1, 7, 0, 6, 3, 0, 0, 0, 4, 8, 6, 8, 3, 4, 5, 8, 2, 3, 1, 6,\n",
       "       0, 6, 1, 8, 8, 6, 0, 5, 2, 8, 8, 4, 7, 4, 3, 8, 5, 5, 6, 5, 1, 9,\n",
       "       4, 9, 0, 9, 7, 0, 5, 3, 5, 3, 9, 1, 5, 1, 9, 5, 6, 1, 3, 7, 8, 7,\n",
       "       9, 5, 4, 1, 1, 2, 9, 4, 8, 0, 3, 9, 1, 6, 9, 7, 0, 0, 5, 5, 9, 3,\n",
       "       1, 2, 5, 1, 0, 3, 8, 2, 3, 6, 8, 2, 4, 6, 4, 5, 1, 5, 1, 2, 0, 2,\n",
       "       6, 2, 7, 4, 5, 4, 9, 7, 5, 2, 4, 2, 7, 6, 2, 0, 2, 9, 0, 6, 6, 4,\n",
       "       0, 3, 8, 5, 2, 2, 8, 6, 9, 3, 9, 3, 1, 9, 9, 9, 2, 8, 5, 9, 0, 5,\n",
       "       9, 6, 1, 4, 2, 8, 4, 2, 6, 7, 7, 5, 4, 0, 4, 0, 0, 5, 9, 4, 1, 6,\n",
       "       4, 1, 8, 2, 0, 1, 5, 6, 0, 2, 7, 8, 5, 2, 9, 4, 9, 1, 1, 7, 4, 7,\n",
       "       8, 8, 3, 4, 4, 1, 5, 2])"
      ]
     },
     "execution_count": 22,
     "metadata": {},
     "output_type": "execute_result"
    }
   ],
   "source": [
    "reg.predict(x_test)"
   ]
  },
  {
   "cell_type": "code",
   "execution_count": 24,
   "id": "b16759d6",
   "metadata": {},
   "outputs": [
    {
     "data": {
      "text/plain": [
       "0.9444444444444444"
      ]
     },
     "execution_count": 24,
     "metadata": {},
     "output_type": "execute_result"
    }
   ],
   "source": [
    "reg.score(x_test,y_test)"
   ]
  },
  {
   "cell_type": "code",
   "execution_count": 26,
   "id": "09cb2f80",
   "metadata": {},
   "outputs": [
    {
     "data": {
      "text/plain": [
       "<matplotlib.image.AxesImage at 0x26dc7b59690>"
      ]
     },
     "execution_count": 26,
     "metadata": {},
     "output_type": "execute_result"
    },
    {
     "data": {
      "image/png": "[encoded data removed]",
      "text/plain": [
       "<Figure size 480x480 with 1 Axes>"
      ]
     },
     "metadata": {},
     "output_type": "display_data"
    }
   ],
   "source": [
    "plt.matshow(ram.images[67])   # this is 67th image"
   ]
  },
  {
   "cell_type": "code",
   "execution_count": 27,
   "id": "00031b2c",
   "metadata": {},
   "outputs": [
    {
     "data": {
      "text/plain": [
       "6"
      ]
     },
     "execution_count": 27,
     "metadata": {},
     "output_type": "execute_result"
    }
   ],
   "source": [
    "ram.target[67]"
   ]
  },
  {
   "cell_type": "code",
   "execution_count": 28,
   "id": "811fa156",
   "metadata": {},
   "outputs": [],
   "source": [
    "# now we need to predict from our model"
   ]
  },
  {
   "cell_type": "code",
   "execution_count": 30,
   "id": "c5e7c487",
   "metadata": {},
   "outputs": [
    {
     "data": {
      "text/plain": [
       "array([6])"
      ]
     },
     "execution_count": 30,
     "metadata": {},
     "output_type": "execute_result"
    }
   ],
   "source": [
    "reg.predict([ram.data[67]]) # here we predict from our model\n"
   ]
  },
  {
   "cell_type": "code",
   "execution_count": 33,
   "id": "dfde4b3a",
   "metadata": {},
   "outputs": [
    {
     "data": {
      "text/plain": [
       "array([0, 1, 2, 3, 4])"
      ]
     },
     "execution_count": 33,
     "metadata": {},
     "output_type": "execute_result"
    }
   ],
   "source": [
    "reg.predict(ram.data[0:5]) # predict the first five images"
   ]
  },
  {
   "cell_type": "code",
   "execution_count": 36,
   "id": "148ffdf6",
   "metadata": {},
   "outputs": [],
   "source": [
    "from sklearn.metrics import confusion_matrix"
   ]
  },
  {
   "cell_type": "code",
   "execution_count": 38,
   "id": "5b118d2b",
   "metadata": {},
   "outputs": [],
   "source": [
    "ypredicted=reg.predict(x_test) # this is the predict value by model\n",
    "#y_test # this is the predefine value"
   ]
  },
  {
   "cell_type": "code",
   "execution_count": 39,
   "id": "5ad7f16f",
   "metadata": {},
   "outputs": [],
   "source": [
    "cm=confusion_matrix(y_test,ypredicted)"
   ]
  },
  {
   "cell_type": "code",
   "execution_count": 40,
   "id": "1070186e",
   "metadata": {},
   "outputs": [
    {
     "data": {
      "text/plain": [
       "array([[34,  0,  0,  0,  0,  0,  0,  0,  0,  0],\n",
       "       [ 0, 36,  0,  1,  1,  0,  0,  0,  0,  1],\n",
       "       [ 0,  1, 32,  0,  0,  0,  0,  0,  0,  0],\n",
       "       [ 0,  0,  1, 29,  0,  0,  0,  0,  0,  0],\n",
       "       [ 1,  0,  0,  0, 37,  0,  0,  1,  1,  0],\n",
       "       [ 0,  0,  0,  0,  1, 36,  0,  0,  0,  1],\n",
       "       [ 0,  1,  0,  0,  0,  1, 39,  0,  1,  0],\n",
       "       [ 0,  0,  0,  0,  0,  0,  0, 35,  0,  0],\n",
       "       [ 0,  1,  1,  0,  0,  2,  0,  0, 26,  0],\n",
       "       [ 1,  0,  0,  0,  0,  1,  0,  0,  1, 36]], dtype=int64)"
      ]
     },
     "execution_count": 40,
     "metadata": {},
     "output_type": "execute_result"
    }
   ],
   "source": [
    "cm"
   ]
  },
  {
   "cell_type": "code",
   "execution_count": 42,
   "id": "8ee21955",
   "metadata": {},
   "outputs": [
    {
     "data": {
      "text/plain": [
       "<AxesSubplot: >"
      ]
     },
     "execution_count": 42,
     "metadata": {},
     "output_type": "execute_result"
    },
    {
     "data": {
      "image/png": "[encoded data removed]",
      "text/plain": [
       "<Figure size 640x480 with 2 Axes>"
      ]
     },
     "metadata": {},
     "output_type": "display_data"
    }
   ],
   "source": [
    "sns.heatmap(cm,annot=True)  # annot act as datalabel\n",
    "# 34 times the the actual value was 0 but the model predicted as 0 \n",
    "# if we see not zero in two black side then there is error."
   ]
  },
  {
   "cell_type": "code",
   "execution_count": null,
   "id": "a795937d",
   "metadata": {},
   "outputs": [],
   "source": []
  }
 ],
 "metadata": {
  "kernelspec": {
   "display_name": "Python 3 (ipykernel)",
   "language": "python",
   "name": "python3"
  },
  "language_info": {
   "codemirror_mode": {
    "name": "ipython",
    "version": 3
   },
   "file_extension": ".py",
   "mimetype": "text/x-python",
   "name": "python",
   "nbconvert_exporter": "python",
   "pygments_lexer": "ipython3",
   "version": "3.11.0"
  }
 },
 "nbformat": 4,
 "nbformat_minor": 5
}
